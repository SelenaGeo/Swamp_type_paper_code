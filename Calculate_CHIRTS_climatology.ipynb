{
 "cells": [
  {
   "cell_type": "markdown",
   "id": "nearby-allowance",
   "metadata": {},
   "source": [
    "## Calculate CHIRTS seasonal and annual maximum temperature climatologies over the central Congo Basin\n",
    "- plots of mean annual and seasonal maximum temperature climatologies\n",
    "- seasonal distribution plots"
   ]
  },
  {
   "cell_type": "code",
   "execution_count": 1,
   "id": "placed-palmer",
   "metadata": {},
   "outputs": [],
   "source": [
    "import pandas as pd\n",
    "import xarray as xr\n",
    "import numpy as np\n",
    "xr.set_options(cmap_sequential='jet')\n",
    "import matplotlib.pyplot as plt\n",
    "import warnings\n",
    "import netCDF4\n",
    "import datetime\n",
    "import plotly\n",
    "import plotly.express as px\n",
    "import plotly.graph_objects as go\n",
    "from affine import Affine\n",
    "import cartopy.crs as ccrs\n",
    "#import nco\n",
    "import xesmf as xe\n",
    "from calendar import monthrange\n",
    "import pickle as pkl\n",
    "import geopandas"
   ]
  },
  {
   "cell_type": "code",
   "execution_count": 2,
   "id": "severe-inquiry",
   "metadata": {},
   "outputs": [],
   "source": [
    "# only use this after code is fully working to supress the plot warnings\n",
    "import warnings\n",
    "warnings.filterwarnings(\"ignore\")"
   ]
  },
  {
   "cell_type": "code",
   "execution_count": 3,
   "id": "exempt-service",
   "metadata": {},
   "outputs": [],
   "source": [
    "WRKDIR = '/home/s0677837/Datastore/PHD/'\n",
    "Chirps_clim = WRKDIR + 'CHIRPS/Clim_monthly/'\n",
    "CHIRTS = WRKDIR + 'CHIRTS/'\n",
    "PKL = WRKDIR + 'PKL/'"
   ]
  },
  {
   "cell_type": "code",
   "execution_count": 4,
   "id": "abstract-upgrade",
   "metadata": {},
   "outputs": [],
   "source": [
    "# full map extent (from full vegetation map extent)\n",
    "lat_min = -5.06319436\n",
    "lat_max = 3.29741657\n",
    "lon_min = 14.99769448\n",
    "lon_max = 25.78052774"
   ]
  },
  {
   "cell_type": "code",
   "execution_count": null,
   "id": "extended-lighter",
   "metadata": {},
   "outputs": [],
   "source": [
    "%%time\n",
    "T_clim = []\n",
    "\n",
    "for mo in range(1,13):\n",
    "    mo = str(mo).zfill(2)\n",
    "    T_yrs = []\n",
    "\n",
    "    for yr in range(1983,2010):\n",
    "        # opening each image\n",
    "        ds = xr.open_rasterio(CHIRTS + 'CHIRTSmax.'+ str(yr) + '.' + mo +'.tif')\n",
    "\n",
    "        # renaming x and y dimensions to the same as the ALOS imagery\n",
    "        ds = ds.rename({'x': 'longitude','y': 'latitude', })\n",
    "\n",
    "        # cutting out to extent of vegetation map\n",
    "        im = ds.where((lon_min < ds.longitude) & (ds.longitude < lon_max) & (lat_min < ds.latitude) & (ds.latitude < lat_max), drop=True)            \n",
    "\n",
    "        # setting no values (currently -9999.0) to nan\n",
    "        im = im.where(im != -9999., drop=True)   \n",
    "\n",
    "        # converting from DataArray to Dataset format\n",
    "        im = im.to_dataset(dim='band')\n",
    "\n",
    "        # creating values and key pairs to rename the variables within the final concatenated array \n",
    "        # they are currently all labelled 1\n",
    "        values = []\n",
    "        values.append(str(yr))\n",
    "        keys = im.keys()\n",
    "        dictionary = dict(zip(keys, values))\n",
    "\n",
    "        # changing the variable name to the month value\n",
    "        im = im.rename_vars(dictionary)\n",
    "        df = im.to_dataframe().reset_index()\n",
    "        df['year'] = str(yr)\n",
    "        df.columns = ['latitude','longitude','value','year']\n",
    "        T_yrs.append(df)\n",
    "\n",
    "    # appending each yearly image to the array of all images\n",
    "    T_yrs = pd.concat(T_yrs)\n",
    "    T_yrs['month'] = mo\n",
    "    T_clim.append(T_yrs)\n",
    "\n",
    "T_clim = pd.concat(T_clim)\n"
   ]
  },
  {
   "cell_type": "code",
   "execution_count": null,
   "id": "bound-quebec",
   "metadata": {},
   "outputs": [],
   "source": [
    "T_clim"
   ]
  },
  {
   "cell_type": "code",
   "execution_count": null,
   "id": "colored-rouge",
   "metadata": {},
   "outputs": [],
   "source": [
    "# now calculating the monthly climatology\n",
    "T_clim_m = T_clim.groupby(['latitude','longitude','month']).mean().reset_index()"
   ]
  },
  {
   "cell_type": "code",
   "execution_count": null,
   "id": "pursuant-cooper",
   "metadata": {},
   "outputs": [],
   "source": [
    "# calculating seasonal climatologies\n",
    "T_clim_DJF = T_clim_m[T_clim_m['month'].isin(['12','01','02'])].groupby(['latitude','longitude']).mean().reset_index()\n",
    "T_clim_MAM = T_clim_m[T_clim_m['month'].isin(['03','04','05'])].groupby(['latitude','longitude']).mean().reset_index()\n",
    "T_clim_JJA = T_clim_m[T_clim_m['month'].isin(['06','07','08'])].groupby(['latitude','longitude']).mean().reset_index()\n",
    "T_clim_SON = T_clim_m[T_clim_m['month'].isin(['09','10','11'])].groupby(['latitude','longitude']).mean().reset_index()\n"
   ]
  },
  {
   "cell_type": "code",
   "execution_count": null,
   "id": "bulgarian-elephant",
   "metadata": {},
   "outputs": [],
   "source": [
    "# naming the array columns\n",
    "T_clim_DJF.columns = ['latitude','longitude','DJF']\n",
    "T_clim_MAM.columns = ['latitude','longitude','MAM']\n",
    "T_clim_JJA.columns = ['latitude','longitude','JJA']\n",
    "T_clim_SON.columns = ['latitude','longitude','SON']"
   ]
  },
  {
   "cell_type": "code",
   "execution_count": null,
   "id": "sunset-bulletin",
   "metadata": {},
   "outputs": [],
   "source": [
    "# creating an xarray including all four seasons\n",
    "DJF = T_clim_DJF.set_index(['latitude','longitude']).to_xarray()\n",
    "MAM = T_clim_MAM.set_index(['latitude','longitude']).to_xarray()\n",
    "JJA = T_clim_JJA.set_index(['latitude','longitude']).to_xarray()\n",
    "SON = T_clim_SON.set_index(['latitude','longitude']).to_xarray()\n",
    "\n",
    "clim_chirts_seasons = xr.merge([DJF,MAM,JJA,SON])\n",
    "\n",
    "print(clim_chirts_seasons)"
   ]
  },
  {
   "cell_type": "code",
   "execution_count": null,
   "id": "signed-boulder",
   "metadata": {},
   "outputs": [],
   "source": [
    "# Saving to pkl\n",
    "with open(PKL + 'clim_chirts_seasons_DJF.pkl', 'wb') as f:\n",
    "    pkl.dump(T_clim_DJF, f)\n",
    "    \n",
    "with open(PKL + 'clim_chirts_seasons_MAM.pkl', 'wb') as f:\n",
    "    pkl.dump(T_clim_MAM, f)\n",
    "\n",
    "with open(PKL + 'clim_chirts_seasons_JJA.pkl', 'wb') as f:\n",
    "    pkl.dump(T_clim_JJA, f)\n",
    "\n",
    "with open(PKL + 'clim_chirts_seasons_SON.pkl', 'wb') as f:\n",
    "    pkl.dump(T_clim_SON, f)\n",
    "    \n",
    "with open(PKL + 'clim_chirts_seasons.pkl', 'wb') as f:\n",
    "    pkl.dump(clim_chirts_seasons, f)    "
   ]
  },
  {
   "cell_type": "code",
   "execution_count": null,
   "id": "pursuant-grounds",
   "metadata": {},
   "outputs": [],
   "source": [
    "clim_chirts_seasons = pkl.load(open(PKL + 'clim_chirts_seasons.pkl', 'rb'))"
   ]
  },
  {
   "cell_type": "code",
   "execution_count": null,
   "id": "boxed-defense",
   "metadata": {},
   "outputs": [],
   "source": [
    "df = clim_chirts_seasons.to_dataframe().reset_index()"
   ]
  },
  {
   "cell_type": "code",
   "execution_count": null,
   "id": "exact-franklin",
   "metadata": {},
   "outputs": [],
   "source": [
    "df[['DJF','MAM','JJA','SON']].mean(axis=1)"
   ]
  },
  {
   "cell_type": "markdown",
   "id": "better-locking",
   "metadata": {},
   "source": [
    "### Calculating mean annual maximum temperature"
   ]
  },
  {
   "cell_type": "code",
   "execution_count": null,
   "id": "secondary-religion",
   "metadata": {},
   "outputs": [],
   "source": [
    "df['Mean annual temperature'] = df[['DJF','MAM','JJA','SON']].mean(axis=1)"
   ]
  },
  {
   "cell_type": "code",
   "execution_count": null,
   "id": "elder-highland",
   "metadata": {},
   "outputs": [],
   "source": [
    "df2=df[['latitude','longitude','Mean annual temperature']]\n",
    "ds2 = df2.set_index(['latitude','longitude']).to_xarray()\n",
    "ds2"
   ]
  },
  {
   "cell_type": "code",
   "execution_count": null,
   "id": "embedded-vanilla",
   "metadata": {},
   "outputs": [],
   "source": [
    "# reading in the shapefile footprint\n",
    "import shapefile as shp\n",
    "footprint = shp.Reader(WRKDIR + '/Veg_maps/CC_footprint.shp')"
   ]
  },
  {
   "cell_type": "code",
   "execution_count": null,
   "id": "collectible-there",
   "metadata": {},
   "outputs": [],
   "source": [
    "import seaborn as sns\n",
    "\n",
    "# lake and river features to be added to maps\n",
    "import cartopy.crs as ccrs\n",
    "import cartopy.feature\n",
    "import matplotlib.ticker as mticker\n",
    "from cartopy.mpl.gridliner import LONGITUDE_FORMATTER, LATITUDE_FORMATTER\n",
    "\n",
    "rivers = cartopy.feature.NaturalEarthFeature(\n",
    "    category='physical', name='rivers_lake_centerlines',\n",
    "    scale='10m', facecolor='none', edgecolor='black')\n",
    "\n",
    "lakes = cartopy.feature.NaturalEarthFeature(\n",
    "    category='physical', name='lakes',\n",
    "    scale='10m', facecolor='none', edgecolor='aqua')\n",
    "\n",
    "def plot_map(ds,variable,cmap_name,label,t,b,l,r,vmin,vmax):\n",
    "    # inputs: data array, variable, colour map, legend lable, plot ticks for top, bottom, left and right,cbar min, cbar max\n",
    "    # e.g. plot_map(clim_chirps_annual,'Annual','viridis_r','Annual rainfall (mm)',True,True,True,True,0,2100)\n",
    "    sns.set(font_scale=1.7, style=\"white\")\n",
    "\n",
    "    fig, ax = plt.subplots(\n",
    "        nrows=1, ncols=1, subplot_kw={'projection': ccrs.PlateCarree()},\n",
    "                             figsize=(11.1, 9.4))\n",
    "    ax.add_feature(rivers, linewidth=1)\n",
    "    ax.add_feature(lakes, linewidth=1)\n",
    "\n",
    "    lat_min = -5.03769436\n",
    "    lat_max = 3.26980564\n",
    "    ax.set_extent([15,23,-4, lat_max])\n",
    "    cmap = plt.cm.get_cmap(cmap_name)\n",
    "    im = ds[variable].plot(cmap=cmap,vmin=vmin,vmax=vmax,cbar_kwargs=dict(orientation='horizontal', pad=0.07,shrink=0.71,label=label))\n",
    "    # adding 2nd axes labels\n",
    "    ax.tick_params(labeltop=True, labelright=True)\n",
    "\n",
    "    for shape in footprint.shapeRecords():\n",
    "        x = [i[0] for i in shape.shape.points[:]]\n",
    "        y = [i[1] for i in shape.shape.points[:]]\n",
    "    plt.plot(x,y, color='grey')\n",
    "    \n",
    "    labelsx=['0','16$^\\circ$E','18$^\\circ$E','20$^\\circ$E','22$^\\circ$E']\n",
    "    ax.set_xticklabels(labelsx)\n",
    "    ax.set_xlim(15,23)\n",
    "    # turning off x and y label titles\n",
    "    x_axis = ax.axes.get_xaxis()\n",
    "    x_label = x_axis.get_label()\n",
    "    x_label.set_visible(False)\n",
    "\n",
    "    y_axis = ax.axes.get_yaxis()\n",
    "    y_label = y_axis.get_label()\n",
    "    y_label.set_visible(False)\n",
    "\n",
    "\n",
    "    labelsy=['0','4$^\\circ$S','3$^\\circ$S','2$^\\circ$S','1$^\\circ$S','0$^\\circ$','1$^\\circ$N','2$^\\circ$N','3$^\\circ$N']\n",
    "    ax.set_yticklabels(labelsy)\n",
    "\n",
    "    gl = ax.gridlines(crs=ccrs.PlateCarree(), draw_labels=True,\n",
    "                      linewidth=1, color='gray', alpha=0.5, linestyle='--')\n",
    "    gl.xlabels_top = t\n",
    "    gl.xlabels_bottom = b\n",
    "    gl.ylabels_left = l\n",
    "    gl.ylabels_right = r\n",
    "    gl.xlines = True\n",
    "\n",
    "    gl.xformatter = LONGITUDE_FORMATTER\n",
    "    gl.yformatter = LATITUDE_FORMATTER\n",
    "    gl.xlocator = mticker.FixedLocator([16, 17, 18, 19, 20, 21, 22, 23])\n",
    "    gl.ylocator = mticker.FixedLocator([-4,-3,-2,-1,0,1,2,3])\n",
    "    gl.ylabel_style = {'size': 15, 'color': 'black'}\n",
    "    gl.xlabel_style = {'size': 15, 'color': 'black'}\n",
    "\n",
    "\n",
    "    plt.show()    "
   ]
  },
  {
   "cell_type": "code",
   "execution_count": null,
   "id": "objective-implement",
   "metadata": {},
   "outputs": [],
   "source": [
    "def plot_map_seasons(ds,variable,cmap_name,label,t,b,l,r,vmin,vmax):\n",
    "    # inputs: data array, variable, colour map, legend lable, plot ticks for top, bottom, left and right,cbar min, cbar max\n",
    "    # e.g. plot_map(clim_chirps_annual,'Annual','viridis_r','Annual rainfall (mm)',True,True,True,True,0,2100)\n",
    "    sns.set(font_scale=1.7, style=\"white\")\n",
    "\n",
    "    fig, ax = plt.subplots(\n",
    "        nrows=1, ncols=1, subplot_kw={'projection': ccrs.PlateCarree()},\n",
    "                             figsize=(11.1*1.1, 9.4*1.1))\n",
    "    ax.add_feature(rivers, linewidth=1)\n",
    "    ax.add_feature(lakes, linewidth=1)\n",
    "\n",
    "    lat_min = -5.03769436\n",
    "    lat_max = 3.26980564\n",
    "    ax.set_extent([15,23,-4, lat_max])\n",
    "    cmap = plt.cm.get_cmap(cmap_name)\n",
    "    im = ds[variable].plot(cmap=cmap,vmin=vmin,vmax=vmax,cbar_kwargs=dict(orientation='horizontal', pad=0.07,shrink=0.71,label=label))\n",
    "    # adding 2nd axes labels\n",
    "    ax.tick_params(labeltop=True, labelright=True)\n",
    "\n",
    "    labelsx=['0','16$^\\circ$E','18$^\\circ$E','20$^\\circ$E','22$^\\circ$E']\n",
    "    ax.set_xticklabels(labelsx)\n",
    "    ax.set_xlim(15,23)\n",
    "    # turning off x and y label titles\n",
    "    x_axis = ax.axes.get_xaxis()\n",
    "    x_label = x_axis.get_label()\n",
    "    x_label.set_visible(False)\n",
    "\n",
    "    y_axis = ax.axes.get_yaxis()\n",
    "    y_label = y_axis.get_label()\n",
    "    y_label.set_visible(False)\n",
    "\n",
    "\n",
    "    labelsy=['0','4$^\\circ$S','3$^\\circ$S','2$^\\circ$S','1$^\\circ$S','0$^\\circ$','1$^\\circ$N','2$^\\circ$N','3$^\\circ$N']\n",
    "    ax.set_yticklabels(labelsy)\n",
    "\n",
    "    gl = ax.gridlines(crs=ccrs.PlateCarree(), draw_labels=True,\n",
    "                      linewidth=1, color='gray', alpha=0.5, linestyle='--')\n",
    "    gl.xlabels_top = t\n",
    "    gl.xlabels_bottom = b\n",
    "    gl.ylabels_left = l\n",
    "    gl.ylabels_right = r\n",
    "    gl.xlines = True\n",
    "\n",
    "    gl.xformatter = LONGITUDE_FORMATTER\n",
    "    gl.yformatter = LATITUDE_FORMATTER\n",
    "    gl.xlocator = mticker.FixedLocator([16, 17, 18, 19, 20, 21, 22, 23])\n",
    "    gl.ylocator = mticker.FixedLocator([-4,-3,-2,-1,0,1,2,3])\n",
    "    gl.ylabel_style = {'size': 17, 'color': 'black'}\n",
    "    gl.xlabel_style = {'size': 17, 'color': 'black'}\n",
    "\n",
    "\n",
    "    plt.show()"
   ]
  },
  {
   "cell_type": "code",
   "execution_count": null,
   "id": "leading-logging",
   "metadata": {},
   "outputs": [],
   "source": [
    "# plotting mean annual maximum temperature\n",
    "plot_map(ds2,'Mean annual temperature','jet','Mean annual max temperature (\\xb0C) ',True,True,True,True,27,33)"
   ]
  },
  {
   "cell_type": "code",
   "execution_count": null,
   "id": "quality-brick",
   "metadata": {},
   "outputs": [],
   "source": [
    "plot_map_seasons(clim_chirts_seasons,'DJF','jet','Mean seasonal max temperature (\\xb0C) ',True,False,True,False,27,33)\n",
    "plot_map_seasons(clim_chirts_seasons,'MAM','jet','Mean seasonal max temperature (\\xb0C) ',True,False,False,True,27,33)\n",
    "plot_map_seasons(clim_chirts_seasons,'JJA','jet','Mean seasonal max temperature (\\xb0C) ',False,True,True,False,27,33)\n",
    "plot_map_seasons(clim_chirts_seasons,'SON','jet','Mean seasonal max temperature (\\xb0C) ',False,True,False,True,27,33)"
   ]
  },
  {
   "cell_type": "code",
   "execution_count": null,
   "id": "descending-collection",
   "metadata": {},
   "outputs": [],
   "source": [
    "clim_chirts_seasons"
   ]
  },
  {
   "cell_type": "code",
   "execution_count": null,
   "id": "remarkable-ethics",
   "metadata": {},
   "outputs": [],
   "source": [
    "# plotting seasonal temperature in a grid\n",
    "da = clim_chirts_seasons.to_array()\n",
    "\n",
    "import matplotlib as mpl\n",
    "mpl.rcParams['xtick.labelsize'] = 16\n",
    "mpl.rcParams['ytick.labelsize'] = 16\n",
    "\n",
    "ax = da.plot(x='longitude',y='latitude',col='variable',col_wrap=2,cmap='jet', robust=True, cbar_kwargs={\"label\": \"Seasonal temperature climatology (\\xb0C)\"},)\n",
    "ax.set_ticks(fontsize='xx-small')\n",
    "ax.set_titles(fontsize='small')\n",
    "ax.set_xlabels(fontsize='x-small')\n",
    "ax.set_ylabels(fontsize='x-small')\n"
   ]
  },
  {
   "cell_type": "markdown",
   "id": "collect-increase",
   "metadata": {},
   "source": [
    "### Plotting the disribution of seasonal maximum temperatures across the Congo Basin"
   ]
  },
  {
   "cell_type": "code",
   "execution_count": null,
   "id": "joint-republic",
   "metadata": {},
   "outputs": [],
   "source": [
    "subplot = T_clim_DJF['DJF'].hist(bins=1000,edgecolor='none')\n",
    "subplot.set_xlim((28,33))"
   ]
  },
  {
   "cell_type": "code",
   "execution_count": null,
   "id": "comparable-terrorism",
   "metadata": {},
   "outputs": [],
   "source": [
    "subplot = T_clim_MAM['MAM'].hist(bins=1000,edgecolor='none')\n",
    "subplot.set_xlim((28,33))"
   ]
  },
  {
   "cell_type": "code",
   "execution_count": null,
   "id": "functional-interest",
   "metadata": {},
   "outputs": [],
   "source": [
    "subplot = T_clim_JJA['JJA'].hist(bins=1000,edgecolor='none')\n",
    "subplot.set_xlim((28,33))"
   ]
  },
  {
   "cell_type": "code",
   "execution_count": null,
   "id": "coastal-ethnic",
   "metadata": {},
   "outputs": [],
   "source": [
    "subplot = T_clim_SON['SON'].hist(bins=1000,edgecolor='none')\n",
    "subplot.set_xlim((28,33))"
   ]
  }
 ],
 "metadata": {
  "kernelspec": {
   "display_name": "congo3",
   "language": "python",
   "name": "congo3"
  },
  "language_info": {
   "codemirror_mode": {
    "name": "ipython",
    "version": 3
   },
   "file_extension": ".py",
   "mimetype": "text/x-python",
   "name": "python",
   "nbconvert_exporter": "python",
   "pygments_lexer": "ipython3",
   "version": "3.8.5"
  }
 },
 "nbformat": 4,
 "nbformat_minor": 5
}
